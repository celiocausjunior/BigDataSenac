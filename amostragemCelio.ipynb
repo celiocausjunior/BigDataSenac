{
 "cells": [
  {
   "cell_type": "markdown",
   "metadata": {
    "_uuid": "1ac881db446ac6570a1810940607bf0068e06658"
   },
   "source": [
    "<font size=\"10\" color=\"black\">Amostragem</font>\n",
    "\n",
    "Eduardo Chaves Ferreira"
   ]
  },
  {
   "cell_type": "markdown",
   "metadata": {
    "_uuid": "941030e79d1e97c748704db360e623a6fd677117"
   },
   "source": [
    "## Importação de bibliotecas usadas nos exemplos"
   ]
  },
  {
   "cell_type": "code",
   "execution_count": 51,
   "metadata": {
    "_uuid": "fc10e265e79347f9d73615725c2fe5ebe86be924"
   },
   "outputs": [],
   "source": [
    "import numpy as np\n",
    "import matplotlib.pyplot as plt\n",
    "import math\n",
    "import random\n",
    "import pandas as pd\n",
    "import scipy.stats as stat\n",
    "from collections import Counter\n",
    "from scipy.stats import t\n",
    "from scipy.stats import norm\n",
    "\n",
    "database = pd.read_csv(\"D:/Temp/jupyter/2015.csv\")"
   ]
  },
  {
   "cell_type": "code",
   "execution_count": 2,
   "metadata": {
    "scrolled": true
   },
   "outputs": [
    {
     "data": {
      "text/html": [
       "<div>\n",
       "<style scoped>\n",
       "    .dataframe tbody tr th:only-of-type {\n",
       "        vertical-align: middle;\n",
       "    }\n",
       "\n",
       "    .dataframe tbody tr th {\n",
       "        vertical-align: top;\n",
       "    }\n",
       "\n",
       "    .dataframe thead th {\n",
       "        text-align: right;\n",
       "    }\n",
       "</style>\n",
       "<table border=\"1\" class=\"dataframe\">\n",
       "  <thead>\n",
       "    <tr style=\"text-align: right;\">\n",
       "      <th></th>\n",
       "      <th>Happiness Rank</th>\n",
       "      <th>Happiness Score</th>\n",
       "      <th>Standard Error</th>\n",
       "      <th>Economy (GDP per Capita)</th>\n",
       "      <th>Family</th>\n",
       "      <th>Health (Life Expectancy)</th>\n",
       "      <th>Freedom</th>\n",
       "      <th>Trust (Government Corruption)</th>\n",
       "      <th>Generosity</th>\n",
       "      <th>Dystopia Residual</th>\n",
       "    </tr>\n",
       "  </thead>\n",
       "  <tbody>\n",
       "    <tr>\n",
       "      <th>count</th>\n",
       "      <td>158.000000</td>\n",
       "      <td>158.000000</td>\n",
       "      <td>158.000000</td>\n",
       "      <td>158.000000</td>\n",
       "      <td>158.000000</td>\n",
       "      <td>158.000000</td>\n",
       "      <td>158.000000</td>\n",
       "      <td>158.000000</td>\n",
       "      <td>158.000000</td>\n",
       "      <td>158.000000</td>\n",
       "    </tr>\n",
       "    <tr>\n",
       "      <th>mean</th>\n",
       "      <td>79.493671</td>\n",
       "      <td>5.375734</td>\n",
       "      <td>0.047885</td>\n",
       "      <td>0.846137</td>\n",
       "      <td>0.991046</td>\n",
       "      <td>0.630259</td>\n",
       "      <td>0.428615</td>\n",
       "      <td>0.143422</td>\n",
       "      <td>0.237296</td>\n",
       "      <td>2.098977</td>\n",
       "    </tr>\n",
       "    <tr>\n",
       "      <th>std</th>\n",
       "      <td>45.754363</td>\n",
       "      <td>1.145010</td>\n",
       "      <td>0.017146</td>\n",
       "      <td>0.403121</td>\n",
       "      <td>0.272369</td>\n",
       "      <td>0.247078</td>\n",
       "      <td>0.150693</td>\n",
       "      <td>0.120034</td>\n",
       "      <td>0.126685</td>\n",
       "      <td>0.553550</td>\n",
       "    </tr>\n",
       "    <tr>\n",
       "      <th>min</th>\n",
       "      <td>1.000000</td>\n",
       "      <td>2.839000</td>\n",
       "      <td>0.018480</td>\n",
       "      <td>0.000000</td>\n",
       "      <td>0.000000</td>\n",
       "      <td>0.000000</td>\n",
       "      <td>0.000000</td>\n",
       "      <td>0.000000</td>\n",
       "      <td>0.000000</td>\n",
       "      <td>0.328580</td>\n",
       "    </tr>\n",
       "    <tr>\n",
       "      <th>25%</th>\n",
       "      <td>40.250000</td>\n",
       "      <td>4.526000</td>\n",
       "      <td>0.037268</td>\n",
       "      <td>0.545808</td>\n",
       "      <td>0.856823</td>\n",
       "      <td>0.439185</td>\n",
       "      <td>0.328330</td>\n",
       "      <td>0.061675</td>\n",
       "      <td>0.150553</td>\n",
       "      <td>1.759410</td>\n",
       "    </tr>\n",
       "    <tr>\n",
       "      <th>50%</th>\n",
       "      <td>79.500000</td>\n",
       "      <td>5.232500</td>\n",
       "      <td>0.043940</td>\n",
       "      <td>0.910245</td>\n",
       "      <td>1.029510</td>\n",
       "      <td>0.696705</td>\n",
       "      <td>0.435515</td>\n",
       "      <td>0.107220</td>\n",
       "      <td>0.216130</td>\n",
       "      <td>2.095415</td>\n",
       "    </tr>\n",
       "    <tr>\n",
       "      <th>75%</th>\n",
       "      <td>118.750000</td>\n",
       "      <td>6.243750</td>\n",
       "      <td>0.052300</td>\n",
       "      <td>1.158448</td>\n",
       "      <td>1.214405</td>\n",
       "      <td>0.811013</td>\n",
       "      <td>0.549092</td>\n",
       "      <td>0.180255</td>\n",
       "      <td>0.309883</td>\n",
       "      <td>2.462415</td>\n",
       "    </tr>\n",
       "    <tr>\n",
       "      <th>max</th>\n",
       "      <td>158.000000</td>\n",
       "      <td>7.587000</td>\n",
       "      <td>0.136930</td>\n",
       "      <td>1.690420</td>\n",
       "      <td>1.402230</td>\n",
       "      <td>1.025250</td>\n",
       "      <td>0.669730</td>\n",
       "      <td>0.551910</td>\n",
       "      <td>0.795880</td>\n",
       "      <td>3.602140</td>\n",
       "    </tr>\n",
       "  </tbody>\n",
       "</table>\n",
       "</div>"
      ],
      "text/plain": [
       "       Happiness Rank  Happiness Score  Standard Error  \\\n",
       "count      158.000000       158.000000      158.000000   \n",
       "mean        79.493671         5.375734        0.047885   \n",
       "std         45.754363         1.145010        0.017146   \n",
       "min          1.000000         2.839000        0.018480   \n",
       "25%         40.250000         4.526000        0.037268   \n",
       "50%         79.500000         5.232500        0.043940   \n",
       "75%        118.750000         6.243750        0.052300   \n",
       "max        158.000000         7.587000        0.136930   \n",
       "\n",
       "       Economy (GDP per Capita)      Family  Health (Life Expectancy)  \\\n",
       "count                158.000000  158.000000                158.000000   \n",
       "mean                   0.846137    0.991046                  0.630259   \n",
       "std                    0.403121    0.272369                  0.247078   \n",
       "min                    0.000000    0.000000                  0.000000   \n",
       "25%                    0.545808    0.856823                  0.439185   \n",
       "50%                    0.910245    1.029510                  0.696705   \n",
       "75%                    1.158448    1.214405                  0.811013   \n",
       "max                    1.690420    1.402230                  1.025250   \n",
       "\n",
       "          Freedom  Trust (Government Corruption)  Generosity  \\\n",
       "count  158.000000                     158.000000  158.000000   \n",
       "mean     0.428615                       0.143422    0.237296   \n",
       "std      0.150693                       0.120034    0.126685   \n",
       "min      0.000000                       0.000000    0.000000   \n",
       "25%      0.328330                       0.061675    0.150553   \n",
       "50%      0.435515                       0.107220    0.216130   \n",
       "75%      0.549092                       0.180255    0.309883   \n",
       "max      0.669730                       0.551910    0.795880   \n",
       "\n",
       "       Dystopia Residual  \n",
       "count         158.000000  \n",
       "mean            2.098977  \n",
       "std             0.553550  \n",
       "min             0.328580  \n",
       "25%             1.759410  \n",
       "50%             2.095415  \n",
       "75%             2.462415  \n",
       "max             3.602140  "
      ]
     },
     "execution_count": 2,
     "metadata": {},
     "output_type": "execute_result"
    }
   ],
   "source": [
    "database.describe()"
   ]
  },
  {
   "cell_type": "code",
   "execution_count": 3,
   "metadata": {},
   "outputs": [
    {
     "data": {
      "text/html": [
       "<div>\n",
       "<style scoped>\n",
       "    .dataframe tbody tr th:only-of-type {\n",
       "        vertical-align: middle;\n",
       "    }\n",
       "\n",
       "    .dataframe tbody tr th {\n",
       "        vertical-align: top;\n",
       "    }\n",
       "\n",
       "    .dataframe thead th {\n",
       "        text-align: right;\n",
       "    }\n",
       "</style>\n",
       "<table border=\"1\" class=\"dataframe\">\n",
       "  <thead>\n",
       "    <tr style=\"text-align: right;\">\n",
       "      <th></th>\n",
       "      <th>Country</th>\n",
       "      <th>Region</th>\n",
       "      <th>Happiness Rank</th>\n",
       "      <th>Happiness Score</th>\n",
       "      <th>Standard Error</th>\n",
       "      <th>Economy (GDP per Capita)</th>\n",
       "      <th>Family</th>\n",
       "      <th>Health (Life Expectancy)</th>\n",
       "      <th>Freedom</th>\n",
       "      <th>Trust (Government Corruption)</th>\n",
       "      <th>Generosity</th>\n",
       "      <th>Dystopia Residual</th>\n",
       "    </tr>\n",
       "  </thead>\n",
       "  <tbody>\n",
       "    <tr>\n",
       "      <th>0</th>\n",
       "      <td>Switzerland</td>\n",
       "      <td>Western Europe</td>\n",
       "      <td>1</td>\n",
       "      <td>7.587</td>\n",
       "      <td>0.03411</td>\n",
       "      <td>1.39651</td>\n",
       "      <td>1.34951</td>\n",
       "      <td>0.94143</td>\n",
       "      <td>0.66557</td>\n",
       "      <td>0.41978</td>\n",
       "      <td>0.29678</td>\n",
       "      <td>2.51738</td>\n",
       "    </tr>\n",
       "    <tr>\n",
       "      <th>1</th>\n",
       "      <td>Iceland</td>\n",
       "      <td>Western Europe</td>\n",
       "      <td>2</td>\n",
       "      <td>7.561</td>\n",
       "      <td>0.04884</td>\n",
       "      <td>1.30232</td>\n",
       "      <td>1.40223</td>\n",
       "      <td>0.94784</td>\n",
       "      <td>0.62877</td>\n",
       "      <td>0.14145</td>\n",
       "      <td>0.43630</td>\n",
       "      <td>2.70201</td>\n",
       "    </tr>\n",
       "    <tr>\n",
       "      <th>2</th>\n",
       "      <td>Denmark</td>\n",
       "      <td>Western Europe</td>\n",
       "      <td>3</td>\n",
       "      <td>7.527</td>\n",
       "      <td>0.03328</td>\n",
       "      <td>1.32548</td>\n",
       "      <td>1.36058</td>\n",
       "      <td>0.87464</td>\n",
       "      <td>0.64938</td>\n",
       "      <td>0.48357</td>\n",
       "      <td>0.34139</td>\n",
       "      <td>2.49204</td>\n",
       "    </tr>\n",
       "    <tr>\n",
       "      <th>3</th>\n",
       "      <td>Norway</td>\n",
       "      <td>Western Europe</td>\n",
       "      <td>4</td>\n",
       "      <td>7.522</td>\n",
       "      <td>0.03880</td>\n",
       "      <td>1.45900</td>\n",
       "      <td>1.33095</td>\n",
       "      <td>0.88521</td>\n",
       "      <td>0.66973</td>\n",
       "      <td>0.36503</td>\n",
       "      <td>0.34699</td>\n",
       "      <td>2.46531</td>\n",
       "    </tr>\n",
       "    <tr>\n",
       "      <th>4</th>\n",
       "      <td>Canada</td>\n",
       "      <td>North America</td>\n",
       "      <td>5</td>\n",
       "      <td>7.427</td>\n",
       "      <td>0.03553</td>\n",
       "      <td>1.32629</td>\n",
       "      <td>1.32261</td>\n",
       "      <td>0.90563</td>\n",
       "      <td>0.63297</td>\n",
       "      <td>0.32957</td>\n",
       "      <td>0.45811</td>\n",
       "      <td>2.45176</td>\n",
       "    </tr>\n",
       "  </tbody>\n",
       "</table>\n",
       "</div>"
      ],
      "text/plain": [
       "       Country          Region  Happiness Rank  Happiness Score  \\\n",
       "0  Switzerland  Western Europe               1            7.587   \n",
       "1      Iceland  Western Europe               2            7.561   \n",
       "2      Denmark  Western Europe               3            7.527   \n",
       "3       Norway  Western Europe               4            7.522   \n",
       "4       Canada   North America               5            7.427   \n",
       "\n",
       "   Standard Error  Economy (GDP per Capita)   Family  \\\n",
       "0         0.03411                   1.39651  1.34951   \n",
       "1         0.04884                   1.30232  1.40223   \n",
       "2         0.03328                   1.32548  1.36058   \n",
       "3         0.03880                   1.45900  1.33095   \n",
       "4         0.03553                   1.32629  1.32261   \n",
       "\n",
       "   Health (Life Expectancy)  Freedom  Trust (Government Corruption)  \\\n",
       "0                   0.94143  0.66557                        0.41978   \n",
       "1                   0.94784  0.62877                        0.14145   \n",
       "2                   0.87464  0.64938                        0.48357   \n",
       "3                   0.88521  0.66973                        0.36503   \n",
       "4                   0.90563  0.63297                        0.32957   \n",
       "\n",
       "   Generosity  Dystopia Residual  \n",
       "0     0.29678            2.51738  \n",
       "1     0.43630            2.70201  \n",
       "2     0.34139            2.49204  \n",
       "3     0.34699            2.46531  \n",
       "4     0.45811            2.45176  "
      ]
     },
     "execution_count": 3,
     "metadata": {},
     "output_type": "execute_result"
    }
   ],
   "source": [
    "database.head ()"
   ]
  },
  {
   "cell_type": "markdown",
   "metadata": {
    "_uuid": "5f04856eb0f6d29bbbcb353428ac6fb383228ae3"
   },
   "source": [
    "## Mantendo a reprodutibilidade dos resultados\n",
    "\n",
    "Antes da geração de números aleatórios é importante inicializar o gerador de números para que os resultados sejam os mesmos"
   ]
  },
  {
   "cell_type": "code",
   "execution_count": 4,
   "metadata": {
    "_uuid": "6ae9861eb4ab846eccee14077efbba2238e56cab"
   },
   "outputs": [],
   "source": [
    "# Para uso com funções da biblioteca standard (ex random.randint)\n",
    "random.seed(1)\n",
    "# Para uso com funções da biblioteca numpy (ex np.random.randint)\n",
    "np.random.seed(1)\n",
    "\n",
    "# Quando for passada como parâmetro a seed\n",
    "random_state = 1"
   ]
  },
  {
   "cell_type": "markdown",
   "metadata": {
    "_uuid": "f7ffa7a8e241c0b5568f55113a66bb932274fa8b"
   },
   "source": [
    "## Funções gerais usadas nos exemplos"
   ]
  },
  {
   "cell_type": "code",
   "execution_count": 5,
   "metadata": {},
   "outputs": [],
   "source": [
    "# Calcula número de desvios na distribuição t de student para determinada confianca\n",
    "\n",
    "\n",
    "def calcula_Z_tstudent(confianca, tamanho_amostra):\n",
    "    mean = 0\n",
    "    std = 1\n",
    "    rv = t(df=(tamanho_amostra-1))\n",
    "    return rv.interval(confianca)[1]"
   ]
  },
  {
   "cell_type": "code",
   "execution_count": 6,
   "metadata": {},
   "outputs": [],
   "source": [
    "# Calcula número de desvios na distribuição normal para determinada confianca\n",
    "\n",
    "\n",
    "def calcula_Z_normal(confianca):\n",
    "    mean = 0\n",
    "    std = 1\n",
    "    rv = norm(loc=mean, scale=std)\n",
    "    return rv.interval(confianca)[1]"
   ]
  },
  {
   "cell_type": "code",
   "execution_count": 7,
   "metadata": {},
   "outputs": [],
   "source": [
    "# Calcula número de desvios na distribuição normal para determinada confianca e múltiplas proporções\n",
    "\n",
    "def calcula_Z_Multiplas_Proporcoes(confianca, numero_proporcoes):\n",
    "    area = math.pow(  confianca, 1/(numero_proporcoes-1) )\n",
    "    return calcula_Z_normal(area)\n",
    "\n"
   ]
  },
  {
   "cell_type": "code",
   "execution_count": 8,
   "metadata": {},
   "outputs": [],
   "source": [
    "# Recupera amostra da população\n",
    "\n",
    "def recupera_amostra(populacao, tamanho_amostra):\n",
    "    tamanho_amostra = int(tamanho_amostra)\n",
    "    if type(populacao) is pd.DataFrame:\n",
    "        return populacao.sample(tamanho_amostra)\n",
    "    else:\n",
    "        #return populacao[np.random.randint(0, len(populacao), tamanho_amostra)]\n",
    "        return [populacao[i] for i in np.random.randint(0, len(populacao), tamanho_amostra)]"
   ]
  },
  {
   "cell_type": "code",
   "execution_count": 9,
   "metadata": {},
   "outputs": [],
   "source": [
    "# Função que calcula intervalo de confiança para média com base em uma amostra e a confiança desejada\n",
    "\n",
    "def calcula_intervalo_media(amostra, confianca, tamanho_populacao):\n",
    "    tamanho_amostra = len(amostra)\n",
    "    \n",
    "    #1-Calcule a média da amostra ex. media_amostra = np.mean(amostra)\n",
    "    media_amostra = np.mean(amostra)\n",
    "\n",
    "    #2-Calcule o desvio da amostra ex. desvio_amostra = np.std(amostra)\n",
    "    desvio_amostra = np.std(amostra)\n",
    "\n",
    "    #3-Calcule quantos desvios precisará para seu grau de confiânça ex. numero_desvios = calcula_numero_desvios_tstudent_para_confianca(confiança, tamanho_amostra)\n",
    "    numero_desvios = calcula_Z_tstudent(confianca, tamanho_amostra)\n",
    "\n",
    "    #4-Calcule o desvio das amostras ex. desvio_amostras = desvio_amostra/np.sqrt(tamanho_amostra)\n",
    "    desvio_amostras = desvio_amostra/np.sqrt(tamanho_amostra)\n",
    "\n",
    "    #5-Calcule a margem de erro ex. margem_erro = numero_desvios*desvio_amostras\n",
    "    margem_erro = numero_desvios*desvio_amostras\n",
    "    \n",
    "    if tamanho_amostra>0.05*tamanho_populacao:\n",
    "        margem_erro = margem_erro * (np.sqrt(tamanho_populacao-tamanho_amostra)/np.sqrt(tamanho_populacao-1))\n",
    "\n",
    "    #6-Calcule o intervalo ex. inferior = media_amostra-margem_erro, superior = media_amostra+margem_erro\n",
    "    inferior = media_amostra-margem_erro\n",
    "    superior = media_amostra+margem_erro\n",
    "\n",
    "    return inferior,superior"
   ]
  },
  {
   "cell_type": "code",
   "execution_count": 10,
   "metadata": {},
   "outputs": [],
   "source": [
    "# Função que calcula intervalo de confiança para proporção de determinado valor com base em uma amostra e a confiança desejada\n",
    "# O parâmetro valor representa a categoria na amostra para a qual se deseja o intervalo de confiança da proporção, por exemplo o nome de um candidato\n",
    "\n",
    "def calcula_intervalo_proporcao(amostra, confianca, valor, tamanho_populacao):\n",
    "    tamanho_amostra = len(amostra)\n",
    "    \n",
    "    proporcao_valor = Counter(amostra)[valor]/tamanho_amostra\n",
    "    \n",
    "    numero_desvios = calcula_Z_tstudent(confianca, tamanho_amostra)\n",
    "\n",
    "    margem_erro = numero_desvios*np.sqrt(proporcao_valor*(1-proporcao_valor))/np.sqrt(tamanho_amostra)\n",
    "    \n",
    "    if tamanho_amostra>0.05*tamanho_populacao:\n",
    "        margem_erro = margem_erro * (np.sqrt(tamanho_populacao-tamanho_amostra)/np.sqrt(tamanho_populacao-1))\n",
    "\n",
    "    inferior = proporcao_valor-margem_erro\n",
    "    superior = proporcao_valor+margem_erro\n",
    "\n",
    "    return inferior,superior"
   ]
  },
  {
   "cell_type": "code",
   "execution_count": 11,
   "metadata": {},
   "outputs": [],
   "source": [
    "# Função para cálculo do número de amostras para médias e somas\n",
    "\n",
    "def Tamanho_Amostra_Valor_Pontual(Tamanho_Populacao, Numero_Desvios, Variancia, Margem_Erro):\n",
    "    return math.ceil( \n",
    "            (Tamanho_Populacao * math.pow(Numero_Desvios,2) * Variancia) / \\\n",
    "            ( (Tamanho_Populacao-1)*math.pow(Margem_Erro,2) + math.pow(Numero_Desvios,2)*Variancia )\n",
    "            )"
   ]
  },
  {
   "cell_type": "code",
   "execution_count": 12,
   "metadata": {},
   "outputs": [],
   "source": [
    "# Função para cálculo do número de amostras para proporções simples\n",
    "\n",
    "def Tamanho_Amostra_Proporcao_Simples(Tamanho_Populacao, Numero_Desvios, Proporcao, Margem_Erro):\n",
    "    return math.ceil( \n",
    "            (Tamanho_Populacao * math.pow(Numero_Desvios,2) * Proporcao * (1-Proporcao)) / \\\n",
    "            ( (Tamanho_Populacao-1)*math.pow(Margem_Erro,2) + math.pow(Numero_Desvios,2)*Proporcao*(1-Proporcao) )\n",
    "            )"
   ]
  },
  {
   "cell_type": "code",
   "execution_count": 13,
   "metadata": {},
   "outputs": [],
   "source": [
    "# Função para cálculo do tamanho da amostra para proporções múltiplas\n",
    "\n",
    "def Tamanho_Amostra_Proporcao_Multipla(Tamanho_Populacao, Confianca, Numero_Proporcoes, Margem_Erro):\n",
    "    Confianca_ = calcula_Z_Multiplas_Proporcoes(Confianca, Numero_Proporcoes)\n",
    "    return math.ceil( \n",
    "            (Tamanho_Populacao * math.pow(Confianca_,2) * 0.25 ) / \\\n",
    "            ( (Tamanho_Populacao-1)*math.pow(Margem_Erro,2) + math.pow(Confianca_,2)*0.25 )\n",
    "            )"
   ]
  },
  {
   "cell_type": "code",
   "execution_count": 52,
   "metadata": {},
   "outputs": [
    {
     "data": {
      "text/plain": [
       "Sub-Saharan Africa                 40\n",
       "Central and Eastern Europe         29\n",
       "Latin America and Caribbean        22\n",
       "Western Europe                     21\n",
       "Middle East and Northern Africa    20\n",
       "Southeastern Asia                   9\n",
       "Southern Asia                       7\n",
       "Eastern Asia                        6\n",
       "Australia and New Zealand           2\n",
       "North America                       2\n",
       "Name: Region, dtype: int64"
      ]
     },
     "execution_count": 52,
     "metadata": {},
     "output_type": "execute_result"
    }
   ],
   "source": [
    "database[\"Region\"].value_counts()\n"
   ]
  },
  {
   "cell_type": "code",
   "execution_count": 53,
   "metadata": {},
   "outputs": [
    {
     "data": {
      "text/plain": [
       "158"
      ]
     },
     "execution_count": 53,
     "metadata": {},
     "output_type": "execute_result"
    }
   ],
   "source": [
    "database[\"Region\"].count()"
   ]
  },
  {
   "cell_type": "code",
   "execution_count": 121,
   "metadata": {},
   "outputs": [],
   "source": [
    "# Cria estrutura vazia para guadar dados da população\n",
    "populacao = pd.DataFrame(columns=['Regiao'])\n"
   ]
  },
  {
   "cell_type": "markdown",
   "metadata": {},
   "source": [
    "# Atribui valor ao Dataframe de acordo com os resultados anteriores"
   ]
  },
  {
   "cell_type": "code",
   "execution_count": 122,
   "metadata": {},
   "outputs": [
    {
     "data": {
      "text/html": [
       "<div>\n",
       "<style scoped>\n",
       "    .dataframe tbody tr th:only-of-type {\n",
       "        vertical-align: middle;\n",
       "    }\n",
       "\n",
       "    .dataframe tbody tr th {\n",
       "        vertical-align: top;\n",
       "    }\n",
       "\n",
       "    .dataframe thead th {\n",
       "        text-align: right;\n",
       "    }\n",
       "</style>\n",
       "<table border=\"1\" class=\"dataframe\">\n",
       "  <thead>\n",
       "    <tr style=\"text-align: right;\">\n",
       "      <th></th>\n",
       "      <th>Regiao</th>\n",
       "    </tr>\n",
       "  </thead>\n",
       "  <tbody>\n",
       "    <tr>\n",
       "      <th>0</th>\n",
       "      <td>AfricaSubSariana</td>\n",
       "    </tr>\n",
       "    <tr>\n",
       "      <th>1</th>\n",
       "      <td>AfricaSubSariana</td>\n",
       "    </tr>\n",
       "    <tr>\n",
       "      <th>2</th>\n",
       "      <td>AfricaSubSariana</td>\n",
       "    </tr>\n",
       "    <tr>\n",
       "      <th>3</th>\n",
       "      <td>AfricaSubSariana</td>\n",
       "    </tr>\n",
       "    <tr>\n",
       "      <th>4</th>\n",
       "      <td>AfricaSubSariana</td>\n",
       "    </tr>\n",
       "  </tbody>\n",
       "</table>\n",
       "</div>"
      ],
      "text/plain": [
       "             Regiao\n",
       "0  AfricaSubSariana\n",
       "1  AfricaSubSariana\n",
       "2  AfricaSubSariana\n",
       "3  AfricaSubSariana\n",
       "4  AfricaSubSariana"
      ]
     },
     "execution_count": 122,
     "metadata": {},
     "output_type": "execute_result"
    }
   ],
   "source": [
    "#População Dividida por Região\n",
    "populacao.Regiao = [\"AfricaSubSariana\"]*40 + [\"LesteEuropeu\"]*29 + [\"AmericaLatina\"]*22 + [\"EuropaOcidental\"]*21 + [\"AfricaNorte\"]*20 + [\"SudesteAsia\"]*9 + [\"SudoesteAsia\"]*7 + [\"Outros\"]*10\n",
    "populacao.head()"
   ]
  },
  {
   "cell_type": "code",
   "execution_count": 123,
   "metadata": {},
   "outputs": [
    {
     "data": {
      "image/png": "[encoded data removed]",
      "text/plain": [
       "<Figure size 432x288 with 1 Axes>"
      ]
     },
     "metadata": {
      "needs_background": "light"
     },
     "output_type": "display_data"
    }
   ],
   "source": [
    "populacao['Regiao'].value_counts().plot(kind='bar')\n",
    "plt.xlabel('Regiao')\n",
    "plt.ylabel('Quantidade')\n",
    "\n",
    "plt.title('Regiao')\n",
    "plt.grid(True)\n",
    "plt.show()"
   ]
  },
  {
   "cell_type": "markdown",
   "metadata": {},
   "source": [
    "# Procurou outra clínica?"
   ]
  },
  {
   "cell_type": "code",
   "execution_count": 18,
   "metadata": {},
   "outputs": [
    {
     "data": {
      "text/html": [
       "<div>\n",
       "<style scoped>\n",
       "    .dataframe tbody tr th:only-of-type {\n",
       "        vertical-align: middle;\n",
       "    }\n",
       "\n",
       "    .dataframe tbody tr th {\n",
       "        vertical-align: top;\n",
       "    }\n",
       "\n",
       "    .dataframe thead th {\n",
       "        text-align: right;\n",
       "    }\n",
       "</style>\n",
       "<table border=\"1\" class=\"dataframe\">\n",
       "  <thead>\n",
       "    <tr style=\"text-align: right;\">\n",
       "      <th></th>\n",
       "      <th>Area</th>\n",
       "      <th>Procurou_Outra_Clinica</th>\n",
       "      <th>Dias_Ate_Atendimento</th>\n",
       "      <th>Satisfacao</th>\n",
       "    </tr>\n",
       "  </thead>\n",
       "  <tbody>\n",
       "    <tr>\n",
       "      <th>0</th>\n",
       "      <td>Publico</td>\n",
       "      <td>S</td>\n",
       "      <td>NaN</td>\n",
       "      <td>NaN</td>\n",
       "    </tr>\n",
       "    <tr>\n",
       "      <th>1</th>\n",
       "      <td>Publico</td>\n",
       "      <td>S</td>\n",
       "      <td>NaN</td>\n",
       "      <td>NaN</td>\n",
       "    </tr>\n",
       "    <tr>\n",
       "      <th>2</th>\n",
       "      <td>Publico</td>\n",
       "      <td>S</td>\n",
       "      <td>NaN</td>\n",
       "      <td>NaN</td>\n",
       "    </tr>\n",
       "    <tr>\n",
       "      <th>3</th>\n",
       "      <td>Publico</td>\n",
       "      <td>S</td>\n",
       "      <td>NaN</td>\n",
       "      <td>NaN</td>\n",
       "    </tr>\n",
       "    <tr>\n",
       "      <th>4</th>\n",
       "      <td>Publico</td>\n",
       "      <td>S</td>\n",
       "      <td>NaN</td>\n",
       "      <td>NaN</td>\n",
       "    </tr>\n",
       "  </tbody>\n",
       "</table>\n",
       "</div>"
      ],
      "text/plain": [
       "      Area Procurou_Outra_Clinica Dias_Ate_Atendimento Satisfacao\n",
       "0  Publico                      S                  NaN        NaN\n",
       "1  Publico                      S                  NaN        NaN\n",
       "2  Publico                      S                  NaN        NaN\n",
       "3  Publico                      S                  NaN        NaN\n",
       "4  Publico                      S                  NaN        NaN"
      ]
     },
     "execution_count": 18,
     "metadata": {},
     "output_type": "execute_result"
    }
   ],
   "source": [
    "# 218 pacientes da pública procuraram outra clínica (24%), 300 da privada procuraram (26,1%)\n",
    "populacao.Procurou_Outra_Clinica = ['S']*218 + ['N']*691 + ['S']*300 + ['N']*848\n",
    "populacao.head()"
   ]
  },
  {
   "cell_type": "code",
   "execution_count": 19,
   "metadata": {},
   "outputs": [
    {
     "data": {
      "image/png": "[encoded data removed]",
      "text/plain": [
       "<Figure size 432x288 with 1 Axes>"
      ]
     },
     "metadata": {
      "needs_background": "light"
     },
     "output_type": "display_data"
    },
    {
     "ename": "NameError",
     "evalue": "name 'Tamanho_Populacao' is not defined",
     "output_type": "error",
     "traceback": [
      "\u001b[1;31m---------------------------------------------------------------------------\u001b[0m",
      "\u001b[1;31mNameError\u001b[0m                                 Traceback (most recent call last)",
      "\u001b[1;32m<ipython-input-19-113101d82efe>\u001b[0m in \u001b[0;36m<module>\u001b[1;34m\u001b[0m\n\u001b[0;32m      7\u001b[0m \u001b[0mplt\u001b[0m\u001b[1;33m.\u001b[0m\u001b[0mshow\u001b[0m\u001b[1;33m(\u001b[0m\u001b[1;33m)\u001b[0m\u001b[1;33m\u001b[0m\u001b[1;33m\u001b[0m\u001b[0m\n\u001b[0;32m      8\u001b[0m \u001b[1;33m\u001b[0m\u001b[0m\n\u001b[1;32m----> 9\u001b[1;33m \u001b[0mprint\u001b[0m\u001b[1;33m(\u001b[0m\u001b[0msum\u001b[0m\u001b[1;33m(\u001b[0m\u001b[0mpopulacao\u001b[0m\u001b[1;33m.\u001b[0m\u001b[0mProcurou_Outra_Clinica\u001b[0m \u001b[1;33m==\u001b[0m \u001b[1;34m'S'\u001b[0m\u001b[1;33m)\u001b[0m\u001b[1;33m/\u001b[0m\u001b[0mTamanho_Populacao\u001b[0m\u001b[1;33m)\u001b[0m\u001b[1;33m\u001b[0m\u001b[1;33m\u001b[0m\u001b[0m\n\u001b[0m",
      "\u001b[1;31mNameError\u001b[0m: name 'Tamanho_Populacao' is not defined"
     ]
    }
   ],
   "source": [
    "populacao['Procurou_Outra_Clinica'].value_counts().plot(kind='bar')\n",
    "plt.xlabel('InteProcurou_Outra_Clinicaresse')\n",
    "plt.ylabel('Quantidade')\n",
    "\n",
    "plt.title('Procurou_Outra_Clinica')\n",
    "plt.grid(True)\n",
    "plt.show()\n",
    "\n",
    "print(sum(populacao.Procurou_Outra_Clinica == 'S')/Tamanho_Populacao)"
   ]
  },
  {
   "cell_type": "markdown",
   "metadata": {},
   "source": [
    "# Dias até atendimento"
   ]
  },
  {
   "cell_type": "code",
   "execution_count": null,
   "metadata": {},
   "outputs": [],
   "source": [
    "# Dias para atendimento média 71 pública, 53 na privada, desvio 22.5 ambas\n",
    "rv_pub = norm(loc=71, scale=18.73)\n",
    "rv_pri = norm(loc=53, scale=14.69)\n",
    "populacao.Dias_Ate_Atendimento =  list(rv_pub.rvs(size=909)) + list(rv_pri.rvs(size=1148))\n",
    "populacao.Dias_Ate_Atendimento = populacao.Dias_Ate_Atendimento.astype('int')\n",
    "populacao.loc[populacao.Dias_Ate_Atendimento <1,['Dias_Ate_Atendimento']] = 1\n",
    "populacao.head()"
   ]
  },
  {
   "cell_type": "code",
   "execution_count": null,
   "metadata": {},
   "outputs": [],
   "source": [
    "n, bins, patches = plt.hist(populacao.Dias_Ate_Atendimento,  facecolor='g', alpha=0.75, bins=50)\n",
    "plt.xlabel('Dias_Ate_Atendimento')\n",
    "plt.ylabel('Quantidade')\n",
    "\n",
    "plt.title('Dias_Ate_Atendimento')\n",
    "plt.grid(True)\n",
    "plt.show()\n",
    "\n",
    "print(populacao.Dias_Ate_Atendimento.mean())"
   ]
  },
  {
   "cell_type": "markdown",
   "metadata": {},
   "source": [
    "# Satisfação com atendimento"
   ]
  },
  {
   "cell_type": "code",
   "execution_count": null,
   "metadata": {},
   "outputs": [],
   "source": [
    "# Grau de satisfação arbitrado\n",
    "populacao.Satisfacao = random.choices(population=['I','R','S'], weights=[0.2,0.5,0.3], k=2057)\n",
    "populacao.head()"
   ]
  },
  {
   "cell_type": "code",
   "execution_count": null,
   "metadata": {},
   "outputs": [],
   "source": [
    "populacao['Satisfacao'].value_counts().plot(kind='bar')\n",
    "plt.xlabel('Satisfacao')\n",
    "plt.ylabel('Quantidade')\n",
    "\n",
    "plt.title('Satisfacao')\n",
    "plt.grid(True)\n",
    "plt.show()\n",
    "\n",
    "print(sum(populacao.Satisfacao == 'I')/Tamanho_Populacao)"
   ]
  },
  {
   "cell_type": "markdown",
   "metadata": {},
   "source": [
    "# Embaralha registros"
   ]
  },
  {
   "cell_type": "code",
   "execution_count": null,
   "metadata": {},
   "outputs": [],
   "source": [
    "from sklearn.utils import shuffle\n",
    "populacao = shuffle(populacao)\n",
    "populacao.head()"
   ]
  },
  {
   "cell_type": "markdown",
   "metadata": {},
   "source": [
    "# Separa a população em duas sub populações: atendidos por clínicas públicas e privadas"
   ]
  },
  {
   "cell_type": "code",
   "execution_count": null,
   "metadata": {},
   "outputs": [],
   "source": [
    "Populacao_Clinicas_Publicas = populacao.loc[populacao.Area == 'Publico',:]\n",
    "Tamanho_Populacao_Clinicas_Publicas = len(Populacao_Clinicas_Publicas)\n",
    "Populacao_Clinicas_Privadas = populacao.loc[populacao.Area == 'Privado',:]\n",
    "Tamanho_Populacao_Clinicas_Privadas = len(Populacao_Clinicas_Privadas)"
   ]
  },
  {
   "cell_type": "markdown",
   "metadata": {},
   "source": [
    "<font size=\"6\" color=\"red\">Amostra piloto</font>"
   ]
  },
  {
   "cell_type": "markdown",
   "metadata": {},
   "source": [
    "# Define margem de erro e grau de confiança"
   ]
  },
  {
   "cell_type": "code",
   "execution_count": null,
   "metadata": {},
   "outputs": [],
   "source": [
    "# Definições gerais\n",
    "Margem_Erro_Dias = 3\n",
    "Margem_Erro_ProcurouOutraClinica = 0.05\n",
    "Margem_Erro_Satisfacao = 0.05\n",
    "    \n",
    "Grau_Confianca = 0.95"
   ]
  },
  {
   "cell_type": "markdown",
   "metadata": {},
   "source": [
    "# Se tiver informações sobre a população, estima variância e proporções"
   ]
  },
  {
   "cell_type": "code",
   "execution_count": null,
   "metadata": {},
   "outputs": [],
   "source": [
    "# Definições específicas (quando já se conhece a população)\n",
    "Variancia_Dias_Estimada = 506\n",
    "Proporcao_Procurou_Outra_Clinica_Amostra = 0.3\n"
   ]
  },
  {
   "cell_type": "markdown",
   "metadata": {},
   "source": [
    "# Se não tiver informações sobre a população, estima variância e proporções em amostra piloto (mínimo 30 elementos)"
   ]
  },
  {
   "cell_type": "code",
   "execution_count": null,
   "metadata": {},
   "outputs": [],
   "source": [
    "# Definições específicas (quando faz amostra piloto)\n",
    "Tamanho_Amostra = 30\n",
    "amostra = recupera_amostra(populacao, Tamanho_Amostra)\n",
    "Variancia_Dias_Estimada = amostra.Dias_Ate_Atendimento.var()\n",
    "Proporcao_Procurou_Outra_Clinica_Amostra = sum(amostra.Procurou_Outra_Clinica == 'S')/Tamanho_Amostra\n",
    "print('Amostra {}, variância dias {}, proporção procurou outra clínica {}'.format(\n",
    "                                                            Tamanho_Amostra,\n",
    "                                                            Variancia_Dias_Estimada,\n",
    "                                                            Proporcao_Procurou_Outra_Clinica_Amostra))"
   ]
  },
  {
   "cell_type": "markdown",
   "metadata": {},
   "source": [
    "# Cálcula tamanho amostra para Dias"
   ]
  },
  {
   "cell_type": "code",
   "execution_count": null,
   "metadata": {},
   "outputs": [],
   "source": [
    "z = calcula_Z_normal(Grau_Confianca)\n",
    "\n",
    "Tamanho_Amostra_Dias = Tamanho_Amostra_Valor_Pontual(\n",
    "    Tamanho_Populacao,\n",
    "    z,\n",
    "    Variancia_Dias_Estimada,\n",
    "    Margem_Erro_Dias)\n",
    "\n",
    "Tamanho_Amostra_Dias"
   ]
  },
  {
   "cell_type": "markdown",
   "metadata": {},
   "source": [
    "# Calcula tamanho amostra para procurou outra clínica"
   ]
  },
  {
   "cell_type": "code",
   "execution_count": null,
   "metadata": {},
   "outputs": [],
   "source": [
    "z = calcula_Z_normal(Grau_Confianca)\n",
    "\n",
    "Tamanho_Amostra_Procurou_Outra_Clinica = Tamanho_Amostra_Proporcao_Simples(\n",
    "    Tamanho_Populacao,\n",
    "    z,\n",
    "    Proporcao_Procurou_Outra_Clinica_Amostra,\n",
    "    Margem_Erro_ProcurouOutraClinica\n",
    ")\n",
    "\n",
    "Tamanho_Amostra_Procurou_Outra_Clinica"
   ]
  },
  {
   "cell_type": "markdown",
   "metadata": {},
   "source": [
    "# Calcula tamanho da amostra para satisfação"
   ]
  },
  {
   "cell_type": "code",
   "execution_count": null,
   "metadata": {},
   "outputs": [],
   "source": [
    "Tamanho_Amostra_Satisfacao = Tamanho_Amostra_Proporcao_Multipla(\n",
    "    Tamanho_Populacao,\n",
    "    Grau_Confianca,\n",
    "    3,\n",
    "    Margem_Erro_Satisfacao\n",
    ")\n",
    "\n",
    "Tamanho_Amostra_Satisfacao"
   ]
  },
  {
   "cell_type": "markdown",
   "metadata": {},
   "source": [
    "# Resumo"
   ]
  },
  {
   "cell_type": "code",
   "execution_count": null,
   "metadata": {},
   "outputs": [],
   "source": [
    "print('Tamanho_Amostra_Dias {}, Tamanho_Amostra_Procurou_Outra_Clinica {}, Tamanho_Amostra_Satisfacao {}'.format(\n",
    "    Tamanho_Amostra_Dias, \n",
    "    Tamanho_Amostra_Procurou_Outra_Clinica, \n",
    "    Tamanho_Amostra_Satisfacao))"
   ]
  },
  {
   "cell_type": "markdown",
   "metadata": {},
   "source": [
    "<font size=\"6\" color=\"red\">Inferência dos parâmetros populacionais com base numa amostra</font>"
   ]
  },
  {
   "cell_type": "markdown",
   "metadata": {},
   "source": [
    "## Cálculo intervalo de confiança para dias"
   ]
  },
  {
   "cell_type": "code",
   "execution_count": null,
   "metadata": {},
   "outputs": [],
   "source": [
    "amostraDias = recupera_amostra(populacao, Tamanho_Amostra_Dias)\n",
    "amostraDias = amostraDias.Dias_Ate_Atendimento"
   ]
  },
  {
   "cell_type": "code",
   "execution_count": null,
   "metadata": {},
   "outputs": [],
   "source": [
    "amostraDias.var()"
   ]
  },
  {
   "cell_type": "code",
   "execution_count": null,
   "metadata": {},
   "outputs": [],
   "source": [
    "confianca = 0.95\n",
    "\n",
    "inferior,superior = calcula_intervalo_media(amostraDias, confianca, Tamanho_Populacao)\n",
    "print('Intervalo da média {} {}'.format(inferior,superior))"
   ]
  },
  {
   "cell_type": "code",
   "execution_count": null,
   "metadata": {},
   "outputs": [],
   "source": [
    "print('Margem de erro {}'.format((superior-inferior)/2))"
   ]
  },
  {
   "cell_type": "markdown",
   "metadata": {},
   "source": [
    "## Cálculo intervalo de confiança para procurou outra clínica"
   ]
  },
  {
   "cell_type": "code",
   "execution_count": null,
   "metadata": {},
   "outputs": [],
   "source": [
    "amostraProcurouOutraClinica = recupera_amostra(populacao, Tamanho_Amostra_Procurou_Outra_Clinica)\n",
    "amostraProcurouOutraClinica = amostraProcurouOutraClinica.Procurou_Outra_Clinica"
   ]
  },
  {
   "cell_type": "code",
   "execution_count": null,
   "metadata": {},
   "outputs": [],
   "source": [
    "confianca = 0.95\n",
    "\n",
    "inferior,superior = calcula_intervalo_proporcao(amostraProcurouOutraClinica, confianca, 'S', Tamanho_Populacao)\n",
    "print('Intervalo da média {} {}'.format(inferior,superior))"
   ]
  },
  {
   "cell_type": "code",
   "execution_count": null,
   "metadata": {},
   "outputs": [],
   "source": [
    "print('Margem de erro {}'.format((superior-inferior)/2))"
   ]
  },
  {
   "cell_type": "markdown",
   "metadata": {},
   "source": [
    "## Cálculo intervalo de confiança para satisfação"
   ]
  },
  {
   "cell_type": "code",
   "execution_count": null,
   "metadata": {},
   "outputs": [],
   "source": [
    "amostraSatisfacao = recupera_amostra(populacao, Tamanho_Amostra_Satisfacao)\n",
    "amostraSatisfacao = amostraSatisfacao.Satisfacao"
   ]
  },
  {
   "cell_type": "code",
   "execution_count": null,
   "metadata": {},
   "outputs": [],
   "source": [
    "confianca = 0.95\n",
    "\n",
    "inferior,superior = calcula_intervalo_proporcao(amostraSatisfacao, confianca, 'I', Tamanho_Populacao)\n",
    "print('Intervalo da média {} {}'.format(inferior,superior))"
   ]
  },
  {
   "cell_type": "code",
   "execution_count": null,
   "metadata": {},
   "outputs": [],
   "source": [
    "print('Margem de erro {}'.format((superior-inferior)/2))"
   ]
  },
  {
   "cell_type": "markdown",
   "metadata": {},
   "source": [
    "<font size=\"6\" color=\"red\">Fazendo amostra estratificada</font>"
   ]
  },
  {
   "cell_type": "code",
   "execution_count": null,
   "metadata": {},
   "outputs": [],
   "source": [
    "proporcao_publico = Tamanho_Populacao_Clinicas_Publicas/Tamanho_Populacao\n",
    "\n",
    "proporcao_privado = Tamanho_Populacao_Clinicas_Privadas/Tamanho_Populacao"
   ]
  },
  {
   "cell_type": "code",
   "execution_count": null,
   "metadata": {},
   "outputs": [],
   "source": [
    "amostraDiasPublico = recupera_amostra(Populacao_Clinicas_Publicas, proporcao_publico*Tamanho_Amostra_Dias)\n",
    "amostraDiasPrivado = recupera_amostra(Populacao_Clinicas_Privadas, proporcao_privado*Tamanho_Amostra_Dias)"
   ]
  },
  {
   "cell_type": "code",
   "execution_count": null,
   "metadata": {},
   "outputs": [],
   "source": [
    "amostraDias = pd.concat([amostraDiasPublico,amostraDiasPrivado]).Dias_Ate_Atendimento\n",
    "len(amostraDias)"
   ]
  },
  {
   "cell_type": "code",
   "execution_count": null,
   "metadata": {},
   "outputs": [],
   "source": [
    "confianca = 0.95\n",
    "\n",
    "inferior,superior = calcula_intervalo_media(amostraDias, confianca, Tamanho_Populacao)\n",
    "print('Intervalo da média {} {}'.format(inferior,superior))"
   ]
  },
  {
   "cell_type": "code",
   "execution_count": null,
   "metadata": {},
   "outputs": [],
   "source": [
    "print('Margem de erro {}'.format((superior-inferior)/2))"
   ]
  }
 ],
 "metadata": {
  "kernelspec": {
   "display_name": "Python 3",
   "language": "python",
   "name": "python3"
  },
  "language_info": {
   "codemirror_mode": {
    "name": "ipython",
    "version": 3
   },
   "file_extension": ".py",
   "mimetype": "text/x-python",
   "name": "python",
   "nbconvert_exporter": "python",
   "pygments_lexer": "ipython3",
   "version": "3.8.3"
  }
 },
 "nbformat": 4,
 "nbformat_minor": 1
}
